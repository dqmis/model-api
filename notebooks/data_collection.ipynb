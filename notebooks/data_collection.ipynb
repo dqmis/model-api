{
 "cells": [
  {
   "attachments": {},
   "cell_type": "markdown",
   "metadata": {},
   "source": [
    "# Recipes data collection notebook"
   ]
  },
  {
   "cell_type": "code",
   "execution_count": 14,
   "metadata": {},
   "outputs": [],
   "source": [
    "from typing import List\n",
    "\n",
    "import pandas as pd\n",
    "from scraper.models.recipe import Recipe\n",
    "from scraper.scraper import Scraper"
   ]
  },
  {
   "cell_type": "code",
   "execution_count": 17,
   "metadata": {},
   "outputs": [],
   "source": [
    "def parse_recipes(recipes: List[Recipe]) -> List[str]:\n",
    "    items = recipes[0][\"items\"]\n",
    "    titles = [item.dict()[\"title\"] for item in items]\n",
    "    return titles"
   ]
  },
  {
   "cell_type": "code",
   "execution_count": 5,
   "metadata": {},
   "outputs": [],
   "source": [
    "# Defining scraper\n",
    "\n",
    "scraper = Scraper()"
   ]
  },
  {
   "cell_type": "code",
   "execution_count": 30,
   "metadata": {},
   "outputs": [
    {
     "name": "stdout",
     "output_type": "stream",
     "text": [
      "Scraping with ('Lamaistas',) scraper...\n"
     ]
    },
    {
     "name": "stderr",
     "output_type": "stream",
     "text": [
      "100%|██████████| 396/396 [01:09<00:00,  5.70it/s]\n"
     ]
    },
    {
     "name": "stdout",
     "output_type": "stream",
     "text": [
      "Scraping with ('Lamaistas',) scraper...\n"
     ]
    },
    {
     "name": "stderr",
     "output_type": "stream",
     "text": [
      "100%|██████████| 396/396 [02:24<00:00,  2.75it/s]\n"
     ]
    },
    {
     "name": "stdout",
     "output_type": "stream",
     "text": [
      "Scraping with ('Lamaistas',) scraper...\n"
     ]
    },
    {
     "name": "stderr",
     "output_type": "stream",
     "text": [
      "100%|██████████| 396/396 [02:22<00:00,  2.78it/s]\n"
     ]
    }
   ],
   "source": [
    "blynai: List[str] = parse_recipes(\n",
    "    scraper.scrape(recipes_per_scraper_count=100, keyword=\"blynai\", scrapers=[\"lamaistas\"])\n",
    ")\n",
    "pyragai: List[str] = parse_recipes(\n",
    "    scraper.scrape(recipes_per_scraper_count=100, keyword=\"pyragas\", scrapers=[\"lamaistas\"])\n",
    ")\n",
    "keksai: List[str] = parse_recipes(\n",
    "    scraper.scrape(recipes_per_scraper_count=100, keyword=\"keksas\", scrapers=[\"lamaistas\"])\n",
    ")"
   ]
  },
  {
   "cell_type": "code",
   "execution_count": 31,
   "metadata": {},
   "outputs": [],
   "source": [
    "# Creating dataframe\n",
    "\n",
    "blynai_df = pd.DataFrame({\"title\": blynai})\n",
    "blynai_df[\"label\"] = \"blynai\"\n",
    "\n",
    "pyragai_df = pd.DataFrame({\"title\": pyragai})\n",
    "pyragai_df[\"label\"] = \"pyragas\"\n",
    "\n",
    "keksai_df = pd.DataFrame({\"title\": keksai})\n",
    "keksai_df[\"label\"] = \"keksas\""
   ]
  },
  {
   "cell_type": "code",
   "execution_count": 32,
   "metadata": {},
   "outputs": [],
   "source": [
    "df = pd.concat([blynai_df, pyragai_df, keksai_df])"
   ]
  },
  {
   "cell_type": "code",
   "execution_count": 33,
   "metadata": {},
   "outputs": [],
   "source": [
    "df.to_parquet(\"./data/recipes1.parquet\")"
   ]
  }
 ],
 "metadata": {
  "kernelspec": {
   "display_name": ".venv",
   "language": "python",
   "name": "python3"
  },
  "language_info": {
   "codemirror_mode": {
    "name": "ipython",
    "version": 3
   },
   "file_extension": ".py",
   "mimetype": "text/x-python",
   "name": "python",
   "nbconvert_exporter": "python",
   "pygments_lexer": "ipython3",
   "version": "3.9.13"
  },
  "orig_nbformat": 4,
  "vscode": {
   "interpreter": {
    "hash": "1045f66a1d8bfe583cb9a8e2a77d539fc192b0f2d510b73e1aa05d8d4e7d6587"
   }
  }
 },
 "nbformat": 4,
 "nbformat_minor": 2
}
