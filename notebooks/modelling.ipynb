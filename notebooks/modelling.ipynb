{
 "cells": [
  {
   "cell_type": "code",
   "execution_count": 2,
   "metadata": {},
   "outputs": [],
   "source": [
    "# Loading dependencies\n",
    "import pandas as pd\n",
    "from sklearn.pipeline import Pipeline\n",
    "from sklearn.compose import ColumnTransformer\n",
    "from sklearn.preprocessing import OneHotEncoder, StandardScaler\n",
    "from sklearn.impute import SimpleImputer\n",
    "from sklearn.linear_model import LinearRegression\n",
    "from sklearn.base import BaseEstimator, TransformerMixin\n",
    "\n",
    "from sklearn.model_selection import train_test_split\n",
    "\n",
    "from sklearn.metrics import mean_absolute_error, mean_squared_error\n",
    "\n",
    "from typing import Optional, Any, List\n",
    "\n",
    "import pandas as pd"
   ]
  },
  {
   "cell_type": "code",
   "execution_count": 4,
   "metadata": {},
   "outputs": [
    {
     "name": "stdout",
     "output_type": "stream",
     "text": [
      "<class 'pandas.core.frame.DataFrame'>\n",
      "RangeIndex: 8128 entries, 0 to 8127\n",
      "Data columns (total 13 columns):\n",
      " #   Column         Non-Null Count  Dtype  \n",
      "---  ------         --------------  -----  \n",
      " 0   name           8128 non-null   object \n",
      " 1   year           8128 non-null   int64  \n",
      " 2   selling_price  8128 non-null   int64  \n",
      " 3   km_driven      8128 non-null   int64  \n",
      " 4   fuel           8128 non-null   object \n",
      " 5   seller_type    8128 non-null   object \n",
      " 6   transmission   8128 non-null   object \n",
      " 7   owner          8128 non-null   object \n",
      " 8   mileage        7907 non-null   object \n",
      " 9   engine         7907 non-null   object \n",
      " 10  max_power      7913 non-null   object \n",
      " 11  torque         7906 non-null   object \n",
      " 12  seats          7907 non-null   float64\n",
      "dtypes: float64(1), int64(3), object(9)\n",
      "memory usage: 825.6+ KB\n"
     ]
    }
   ],
   "source": [
    "# Loading data\n",
    "df = pd.read_csv(\"./data/data.csv\")\n",
    "df.info()"
   ]
  },
  {
   "cell_type": "code",
   "execution_count": null,
   "metadata": {},
   "outputs": [],
   "source": [
    "# Cleaning data\n",
    "df.dropna(inplace=True)"
   ]
  },
  {
   "attachments": {},
   "cell_type": "markdown",
   "metadata": {},
   "source": [
    "### Defining data transformers"
   ]
  },
  {
   "cell_type": "code",
   "execution_count": null,
   "metadata": {},
   "outputs": [],
   "source": [
    "class CarModelExtractionTransformer(BaseEstimator, TransformerMixin):\n",
    "    def __init__(self) -> None:\n",
    "        self._popular_brands: List[str] = []\n",
    "\n",
    "    def fit(self, X: pd.DataFrame, y: Optional[Any] = None, max_models_count: int = 30):\n",
    "        data = X.copy()\n",
    "        data[\"model\"] = data.name.apply(lambda x:  x.split()[1])\n",
    "\n",
    "        self._popular_brands = data.groupby(\"model\").size().sort_values(ascending=False).index[:max_models_count]\n",
    "        return self\n",
    "\n",
    "    def transform(self, X: pd.DataFrame, y: Optional[Any] = None) -> pd.DataFrame:\n",
    "        data = X.copy()\n",
    "        data[\"model\"] = data.name.apply(lambda x: x.split()[1])\n",
    "        data.loc[~data[\"model\"].isin(self._popular_brands), \"model\"] = \"Other\"\n",
    "        return data"
   ]
  },
  {
   "cell_type": "code",
   "execution_count": null,
   "metadata": {},
   "outputs": [],
   "source": [
    "class CarTechnicalInfoTransformer(BaseEstimator, TransformerMixin):\n",
    "    def fit(self, X: pd.DataFrame, y: Optional[Any] = None):\n",
    "        return self\n",
    "\n",
    "    def _extract_engine_info(self, engine_info: str) -> int:\n",
    "        try:\n",
    "            return int(engine_info.split()[0])\n",
    "        except AttributeError:\n",
    "            return engine_info\n",
    "\n",
    "    def _parse_mileage(self, mileage: str) -> float:\n",
    "        if type(mileage) != str:\n",
    "            return mileage\n",
    "        measurement, measure_type = mileage.split()\n",
    "        if measure_type == \"km/kg\":\n",
    "            return float(measurement) * 1.4\n",
    "        return float(measurement)\n",
    "\n",
    "    def _extract_max_power(self, power: str) -> float:\n",
    "        if type(power) != str:\n",
    "            return power\n",
    "        try:\n",
    "            return float(power.split()[0])\n",
    "        except ValueError:\n",
    "            return float('nan')\n",
    "        \n",
    "    def _parse_year_to_age(self, year: int) -> int:\n",
    "        return 2022 - year\n",
    "\n",
    "    def transform(self, X: pd.DataFrame, y: Optional[Any] = None) -> pd.DataFrame:\n",
    "        data = X.copy()\n",
    "        data.max_power = data.max_power.apply(self._extract_max_power)\n",
    "        data.mileage = data.mileage.apply(self._parse_mileage)\n",
    "        data[\"age\"] = data.year.apply(self._parse_year_to_age)\n",
    "        data.engine = data.engine.apply(self._extract_engine_info)\n",
    "\n",
    "        return data"
   ]
  },
  {
   "cell_type": "code",
   "execution_count": null,
   "metadata": {},
   "outputs": [],
   "source": [
    "class CarTechnicalInfoTransformer(BaseEstimator, TransformerMixin):\n",
    "    def fit(self, X: pd.DataFrame, y: Optional[Any] = None):\n",
    "        return self\n",
    "\n",
    "    def _extract_engine_info(self, engine_info: str) -> int:\n",
    "        try:\n",
    "            return int(engine_info.split()[0])\n",
    "        except AttributeError:\n",
    "            return engine_info\n",
    "\n",
    "    def _parse_mileage(self, mileage: str) -> float:\n",
    "        if type(mileage) != str:\n",
    "            return mileage\n",
    "        measurement, measure_type = mileage.split()\n",
    "        if measure_type == \"km/kg\":\n",
    "            return float(measurement) * 1.4\n",
    "        return float(measurement)\n",
    "\n",
    "    def _extract_max_power(self, power: str) -> float:\n",
    "        if type(power) != str:\n",
    "            return power\n",
    "        try:\n",
    "            return float(power.split()[0])\n",
    "        except ValueError:\n",
    "            return float('nan')\n",
    "        \n",
    "    def _parse_year_to_age(self, year: int) -> int:\n",
    "        return 2022 - year\n",
    "\n",
    "    def transform(self, X: pd.DataFrame, y: Optional[Any] = None) -> pd.DataFrame:\n",
    "        data = X.copy()\n",
    "        data.max_power = data.max_power.apply(self._extract_max_power)\n",
    "        data.mileage = data.mileage.apply(self._parse_mileage)\n",
    "        data[\"age\"] = data.year.apply(self._parse_year_to_age)\n",
    "        data.engine = data.engine.apply(self._extract_engine_info)\n",
    "\n",
    "        return data"
   ]
  }
 ],
 "metadata": {
  "kernelspec": {
   "display_name": ".venv",
   "language": "python",
   "name": "python3"
  },
  "language_info": {
   "codemirror_mode": {
    "name": "ipython",
    "version": 3
   },
   "file_extension": ".py",
   "mimetype": "text/x-python",
   "name": "python",
   "nbconvert_exporter": "python",
   "pygments_lexer": "ipython3",
   "version": "3.10.6"
  },
  "orig_nbformat": 4,
  "vscode": {
   "interpreter": {
    "hash": "1045f66a1d8bfe583cb9a8e2a77d539fc192b0f2d510b73e1aa05d8d4e7d6587"
   }
  }
 },
 "nbformat": 4,
 "nbformat_minor": 2
}
