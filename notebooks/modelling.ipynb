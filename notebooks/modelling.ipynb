{
 "cells": [
  {
   "cell_type": "code",
   "execution_count": 28,
   "metadata": {},
   "outputs": [],
   "source": [
    "# Loading dependencies\n",
    "from typing import Any, Dict, List, Optional\n",
    "\n",
    "import cloudpickle\n",
    "import pandas as pd\n",
    "from sklearn.base import BaseEstimator, TransformerMixin\n",
    "from sklearn.compose import ColumnTransformer\n",
    "from sklearn.impute import SimpleImputer\n",
    "from sklearn.metrics import mean_absolute_error, mean_squared_error\n",
    "from sklearn.model_selection import RandomizedSearchCV, train_test_split\n",
    "from sklearn.pipeline import Pipeline\n",
    "from sklearn.preprocessing import OneHotEncoder\n",
    "from xgboost import XGBRegressor"
   ]
  },
  {
   "cell_type": "code",
   "execution_count": 13,
   "metadata": {},
   "outputs": [
    {
     "name": "stdout",
     "output_type": "stream",
     "text": [
      "<class 'pandas.core.frame.DataFrame'>\n",
      "RangeIndex: 8128 entries, 0 to 8127\n",
      "Data columns (total 13 columns):\n",
      " #   Column         Non-Null Count  Dtype  \n",
      "---  ------         --------------  -----  \n",
      " 0   name           8128 non-null   object \n",
      " 1   year           8128 non-null   int64  \n",
      " 2   selling_price  8128 non-null   int64  \n",
      " 3   km_driven      8128 non-null   int64  \n",
      " 4   fuel           8128 non-null   object \n",
      " 5   seller_type    8128 non-null   object \n",
      " 6   transmission   8128 non-null   object \n",
      " 7   owner          8128 non-null   object \n",
      " 8   mileage        7907 non-null   object \n",
      " 9   engine         7907 non-null   object \n",
      " 10  max_power      7913 non-null   object \n",
      " 11  torque         7906 non-null   object \n",
      " 12  seats          7907 non-null   float64\n",
      "dtypes: float64(1), int64(3), object(9)\n",
      "memory usage: 825.6+ KB\n"
     ]
    }
   ],
   "source": [
    "# Loading data\n",
    "df = pd.read_csv(\"./data/data.csv\")\n",
    "df.info()"
   ]
  },
  {
   "cell_type": "code",
   "execution_count": null,
   "metadata": {},
   "outputs": [],
   "source": [
    "# Cleaning data\n",
    "df.dropna(inplace=True)"
   ]
  },
  {
   "attachments": {},
   "cell_type": "markdown",
   "metadata": {},
   "source": [
    "### Defining data transformers"
   ]
  },
  {
   "cell_type": "code",
   "execution_count": 3,
   "metadata": {},
   "outputs": [],
   "source": [
    "class CarModelExtractionTransformer(BaseEstimator, TransformerMixin):\n",
    "    def __init__(self) -> None:\n",
    "        self._popular_brands: List[str] = []\n",
    "\n",
    "    def fit(self, X: pd.DataFrame, y: Optional[Any] = None, max_models_count: int = 30):\n",
    "        data = X.copy()\n",
    "        data[\"model\"] = data.name.apply(lambda x: x.split()[1])\n",
    "\n",
    "        self._popular_brands = (\n",
    "            data.groupby(\"model\").size().sort_values(ascending=False).index[:max_models_count]\n",
    "        )\n",
    "        return self\n",
    "\n",
    "    def transform(self, X: pd.DataFrame, y: Optional[Any] = None) -> pd.DataFrame:\n",
    "        data = X.copy()\n",
    "        data[\"model\"] = data.name.apply(lambda x: x.split()[1])\n",
    "        data.loc[~data[\"model\"].isin(self._popular_brands), \"model\"] = \"Other\"\n",
    "        return data"
   ]
  },
  {
   "cell_type": "code",
   "execution_count": 4,
   "metadata": {},
   "outputs": [],
   "source": [
    "class CarTechnicalInfoTransformer(BaseEstimator, TransformerMixin):\n",
    "    def fit(self, X: pd.DataFrame, y: Optional[Any] = None):\n",
    "        return self\n",
    "\n",
    "    def _extract_engine_info(self, engine_info: str) -> int:\n",
    "        try:\n",
    "            return int(engine_info.split()[0])\n",
    "        except AttributeError:\n",
    "            return engine_info\n",
    "\n",
    "    def _parse_mileage(self, mileage: str) -> float:\n",
    "        if type(mileage) != str:\n",
    "            return mileage\n",
    "        measurement, measure_type = mileage.split()\n",
    "        if measure_type == \"km/kg\":\n",
    "            return float(measurement) * 1.4\n",
    "        return float(measurement)\n",
    "\n",
    "    def _extract_max_power(self, power: str) -> float:\n",
    "        if type(power) != str:\n",
    "            return power\n",
    "        try:\n",
    "            return float(power.split()[0])\n",
    "        except ValueError:\n",
    "            return float(\"nan\")\n",
    "\n",
    "    def _parse_year_to_age(self, year: int) -> int:\n",
    "        return 2022 - year\n",
    "\n",
    "    def transform(self, X: pd.DataFrame, y: Optional[Any] = None) -> pd.DataFrame:\n",
    "        data = X.copy()\n",
    "        data.max_power = data.max_power.apply(self._extract_max_power)\n",
    "        data.mileage = data.mileage.apply(self._parse_mileage)\n",
    "        data[\"age\"] = data.year.apply(self._parse_year_to_age)\n",
    "        data.engine = data.engine.apply(self._extract_engine_info)\n",
    "\n",
    "        return data"
   ]
  },
  {
   "cell_type": "code",
   "execution_count": 5,
   "metadata": {},
   "outputs": [],
   "source": [
    "class CarTechnicalInfoTransformer(BaseEstimator, TransformerMixin):\n",
    "    def fit(self, X: pd.DataFrame, y: Optional[Any] = None):\n",
    "        return self\n",
    "\n",
    "    def _extract_engine_info(self, engine_info: str) -> int:\n",
    "        try:\n",
    "            return int(engine_info.split()[0])\n",
    "        except AttributeError:\n",
    "            return engine_info\n",
    "\n",
    "    def _parse_mileage(self, mileage: str) -> float:\n",
    "        if type(mileage) != str:\n",
    "            return mileage\n",
    "        measurement, measure_type = mileage.split()\n",
    "        if measure_type == \"km/kg\":\n",
    "            return float(measurement) * 1.4\n",
    "        return float(measurement)\n",
    "\n",
    "    def _extract_max_power(self, power: str) -> float:\n",
    "        if type(power) != str:\n",
    "            return power\n",
    "        try:\n",
    "            return float(power.split()[0])\n",
    "        except ValueError:\n",
    "            return float(\"nan\")\n",
    "\n",
    "    def _parse_year_to_age(self, year: int) -> int:\n",
    "        return 2022 - year\n",
    "\n",
    "    def transform(self, X: pd.DataFrame, y: Optional[Any] = None) -> pd.DataFrame:\n",
    "        data = X.copy()\n",
    "        data.max_power = data.max_power.apply(self._extract_max_power)\n",
    "        data.mileage = data.mileage.apply(self._parse_mileage)\n",
    "        data[\"age\"] = data.year.apply(self._parse_year_to_age)\n",
    "        data.engine = data.engine.apply(self._extract_engine_info)\n",
    "\n",
    "        return data"
   ]
  },
  {
   "cell_type": "code",
   "execution_count": 6,
   "metadata": {},
   "outputs": [],
   "source": [
    "class CarOwnerParsingTransformer(BaseEstimator, TransformerMixin):\n",
    "    def fit(self, X: pd.DataFrame, y: Optional[Any] = None):\n",
    "        return self\n",
    "\n",
    "    def transform(self, X: pd.DataFrame, y: Optional[Any] = None) -> pd.DataFrame:\n",
    "        data = X.copy()\n",
    "\n",
    "        owners = {\n",
    "            \"Test Drive Car\": 0,\n",
    "            \"First Owner\": 1,\n",
    "            \"Second Owner\": 2,\n",
    "            \"Third Owner\": 3,\n",
    "            \"Fourth & Above Owner\": 4,\n",
    "        }\n",
    "\n",
    "        data[\"owner\"] = data[\"owner\"].apply(lambda x: owners[x])\n",
    "\n",
    "        return data"
   ]
  },
  {
   "attachments": {},
   "cell_type": "markdown",
   "metadata": {},
   "source": [
    "### Defining pipeline"
   ]
  },
  {
   "cell_type": "code",
   "execution_count": 7,
   "metadata": {},
   "outputs": [],
   "source": [
    "cont_pipeline = Pipeline(\n",
    "    [\n",
    "        (\"imputer\", SimpleImputer(strategy=\"median\")),\n",
    "    ]\n",
    ")\n",
    "\n",
    "cat_pipeline = Pipeline(\n",
    "    [\n",
    "        (\"imputer\", SimpleImputer(strategy=\"most_frequent\")),\n",
    "        (\"one_hot_encode\", OneHotEncoder(handle_unknown=\"ignore\")),\n",
    "    ]\n",
    ")"
   ]
  },
  {
   "cell_type": "code",
   "execution_count": 19,
   "metadata": {},
   "outputs": [],
   "source": [
    "cat_features = [\"fuel\", \"seller_type\", \"transmission\", \"model\"]\n",
    "cont_features = [\"km_driven\", \"owner\", \"mileage\", \"engine\", \"max_power\", \"seats\", \"age\"]\n",
    "\n",
    "label = \"selling_price\""
   ]
  },
  {
   "cell_type": "code",
   "execution_count": 11,
   "metadata": {},
   "outputs": [],
   "source": [
    "pipeline = Pipeline(\n",
    "    [\n",
    "        (\"model_extraction\", CarModelExtractionTransformer()),\n",
    "        (\"technical_info_extraction\", CarTechnicalInfoTransformer()),\n",
    "        (\"owner_extraction\", CarOwnerParsingTransformer()),\n",
    "        (\n",
    "            \"ColumnTransformer\",\n",
    "            ColumnTransformer(\n",
    "                [\n",
    "                    (\"cont_transformer\", cont_pipeline, cont_features),\n",
    "                    (\"cat_transformer\", cat_pipeline, cat_features),\n",
    "                ]\n",
    "            ),\n",
    "        ),\n",
    "        (\"model\", XGBRegressor()),\n",
    "    ]\n",
    ")"
   ]
  },
  {
   "attachments": {},
   "cell_type": "markdown",
   "metadata": {},
   "source": [
    "### Training and hyperparams search"
   ]
  },
  {
   "cell_type": "code",
   "execution_count": 14,
   "metadata": {},
   "outputs": [],
   "source": [
    "# Splitting data\n",
    "train_df, test_df = train_test_split(df)"
   ]
  },
  {
   "cell_type": "code",
   "execution_count": 22,
   "metadata": {},
   "outputs": [],
   "source": [
    "# Searching for the best hyperparams\n",
    "\n",
    "\n",
    "def extract_best_model_params(params: Dict[str, Any]) -> Dict[str, Any]:\n",
    "    filtered_dict = {}\n",
    "    for key, value in params.items():\n",
    "        if \"model__\" in key:\n",
    "            filtered_dict[key.split(\"model__\")[-1]] = value\n",
    "    return filtered_dict"
   ]
  },
  {
   "cell_type": "code",
   "execution_count": 26,
   "metadata": {},
   "outputs": [
    {
     "name": "stderr",
     "output_type": "stream",
     "text": [
      "/Users/dqmis/github/model_api/.venv/lib/python3.10/site-packages/sklearn/model_selection/_search.py:306: UserWarning: The total space of parameters 8 is smaller than n_iter=100. Running 8 iterations. For exhaustive searches, use GridSearchCV.\n",
      "  warnings.warn(\n"
     ]
    },
    {
     "name": "stdout",
     "output_type": "stream",
     "text": [
      "MAE:  64003.35230453371\n",
      "MSE:  16487482942.967878\n"
     ]
    }
   ],
   "source": [
    "params = {\n",
    "    \"model__max_depth\": [6, 10],\n",
    "    \"model__learning_rate\": [0.01, 0.08],\n",
    "    \"model__colsample_bylevel\": [0.3, 0.4],\n",
    "}\n",
    "\n",
    "forrest = pipeline\n",
    "\n",
    "search = RandomizedSearchCV(forrest, params, n_iter=100, cv=7, random_state=42, n_jobs=-1)\n",
    "search.fit(train_df, train_df[label].values)\n",
    "\n",
    "\n",
    "pipeline = Pipeline(\n",
    "    [\n",
    "        (\"model_extraction\", CarModelExtractionTransformer()),\n",
    "        (\"technical_info_extraction\", CarTechnicalInfoTransformer()),\n",
    "        (\"owner_extraction\", CarOwnerParsingTransformer()),\n",
    "        (\n",
    "            \"ColumnTransformer\",\n",
    "            ColumnTransformer(\n",
    "                [\n",
    "                    (\"cont_transformer\", cont_pipeline, cont_features),\n",
    "                    (\"cat_transformer\", cat_pipeline, cat_features),\n",
    "                ]\n",
    "            ),\n",
    "        ),\n",
    "        (\"model\", XGBRegressor(**extract_best_model_params(search.best_estimator_.get_params()))),\n",
    "    ]\n",
    ")\n",
    "pipeline.fit(train_df, train_df[label].values)\n",
    "\n",
    "predictions = pipeline.predict(test_df)\n",
    "\n",
    "print(\"MAE: \", mean_absolute_error(test_df[label], predictions))\n",
    "print(\"MSE: \", mean_squared_error(test_df[label], predictions))"
   ]
  },
  {
   "cell_type": "code",
   "execution_count": 30,
   "metadata": {},
   "outputs": [
    {
     "data": {
      "text/plain": [
       "array([100638.05], dtype=float32)"
      ]
     },
     "execution_count": 30,
     "metadata": {},
     "output_type": "execute_result"
    }
   ],
   "source": [
    "pipeline.predict(test_df.head(1))"
   ]
  },
  {
   "attachments": {},
   "cell_type": "markdown",
   "metadata": {},
   "source": [
    "### Saving model"
   ]
  },
  {
   "cell_type": "code",
   "execution_count": null,
   "metadata": {},
   "outputs": [],
   "source": [
    "cloudpickle.dump(pipeline, open(\"./outputs/model.pkl\", \"wb\"))"
   ]
  }
 ],
 "metadata": {
  "kernelspec": {
   "display_name": ".venv",
   "language": "python",
   "name": "python3"
  },
  "language_info": {
   "codemirror_mode": {
    "name": "ipython",
    "version": 3
   },
   "file_extension": ".py",
   "mimetype": "text/x-python",
   "name": "python",
   "nbconvert_exporter": "python",
   "pygments_lexer": "ipython3",
   "version": "3.10.6"
  },
  "orig_nbformat": 4,
  "vscode": {
   "interpreter": {
    "hash": "1045f66a1d8bfe583cb9a8e2a77d539fc192b0f2d510b73e1aa05d8d4e7d6587"
   }
  }
 },
 "nbformat": 4,
 "nbformat_minor": 2
}
